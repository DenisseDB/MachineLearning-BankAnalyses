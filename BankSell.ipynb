{
  "nbformat": 4,
  "nbformat_minor": 0,
  "metadata": {
    "colab": {
      "provenance": [],
      "authorship_tag": "ABX9TyPjDOXmuEGe7+IvgiypopWZ",
      "include_colab_link": true
    },
    "kernelspec": {
      "name": "python3",
      "display_name": "Python 3"
    },
    "language_info": {
      "name": "python"
    }
  },
  "cells": [
    {
      "cell_type": "markdown",
      "metadata": {
        "id": "view-in-github",
        "colab_type": "text"
      },
      "source": [
        "<a href=\"https://colab.research.google.com/github/DenisseDB/MachineLearning-BankAnalyses/blob/main/BankSell.ipynb\" target=\"_parent\"><img src=\"https://colab.research.google.com/assets/colab-badge.svg\" alt=\"Open In Colab\"/></a>"
      ]
    },
    {
      "cell_type": "code",
      "source": [
        "import tensorflow as tf\n",
        "import pandas as pd\n",
        "import numpy as np\n",
        "import matplotlib.pyplot as plt\n",
        "from sklearn.preprocessing import LabelEncoder\n",
        "from sklearn.preprocessing import OneHotEncoder\n",
        "from sklearn.decomposition import PCA\n",
        "from sklearn.metrics import mean_absolute_error, confusion_matrix, ConfusionMatrixDisplay, classification_report\n",
        "from sklearn.utils import class_weight\n",
        "%matplotlib inline\n",
        "\n",
        "# If you would like to make further imports from Tensorflow, add them here\n",
        "\n",
        "from tensorflow.keras.models import Sequential\n",
        "from tensorflow.keras.layers import Dense, Flatten, Conv2D, MaxPooling2D\n",
        "\n",
        "# Data Balancing\n",
        "from collections import Counter\n",
        "from imblearn.over_sampling import KMeansSMOTE"
      ],
      "metadata": {
        "id": "j_egWT9cnXTr"
      },
      "execution_count": 261,
      "outputs": []
    },
    {
      "cell_type": "code",
      "execution_count": 262,
      "metadata": {
        "colab": {
          "base_uri": "https://localhost:8080/"
        },
        "id": "QEOxKS8_jtmw",
        "outputId": "6e646139-e4e5-4710-b0b1-8f1d904f21e4"
      },
      "outputs": [
        {
          "output_type": "stream",
          "name": "stdout",
          "text": [
            "Drive already mounted at /content/drive; to attempt to forcibly remount, call drive.mount(\"/content/drive\", force_remount=True).\n"
          ]
        }
      ],
      "source": [
        "from google.colab import drive\n",
        "drive.mount('/content/drive')"
      ]
    },
    {
      "cell_type": "code",
      "source": [
        "# /content/drive/MyDrive/BankData/bank-full.csv\n",
        "%cd \"/content/drive/MyDrive/BankData\""
      ],
      "metadata": {
        "colab": {
          "base_uri": "https://localhost:8080/"
        },
        "id": "Oef-y2gVlAuf",
        "outputId": "2c608f18-3e95-4256-a0a4-9b073c5fc5b9"
      },
      "execution_count": 263,
      "outputs": [
        {
          "output_type": "stream",
          "name": "stdout",
          "text": [
            "/content/drive/MyDrive/BankData\n"
          ]
        }
      ]
    },
    {
      "cell_type": "code",
      "source": [
        "tf.random.set_seed(42)\n",
        "np.random.seed(42)"
      ],
      "metadata": {
        "id": "33xFd8V6Y5mD"
      },
      "execution_count": 264,
      "outputs": []
    },
    {
      "cell_type": "markdown",
      "source": [
        "**OBTENER EL DATASET**"
      ],
      "metadata": {
        "id": "-K0g3ErrNhNP"
      }
    },
    {
      "cell_type": "markdown",
      "source": [
        "Cargar mi dataset y dividirlo para lo que usaremos para el test y el train"
      ],
      "metadata": {
        "id": "aVBtnHQVuiYi"
      }
    },
    {
      "cell_type": "code",
      "source": [
        "df = pd.read_csv(\"bank-full.csv\", delimiter=\";\")"
      ],
      "metadata": {
        "id": "LvJiSuFcnVpV"
      },
      "execution_count": 265,
      "outputs": []
    },
    {
      "cell_type": "markdown",
      "source": [
        "*Limpiar los datos*"
      ],
      "metadata": {
        "id": "hdqbxJqNusIT"
      }
    },
    {
      "cell_type": "markdown",
      "source": [
        "Seleccionar columnas que usaremos para el modelo\n"
      ],
      "metadata": {
        "id": "OiJgB7EELISp"
      }
    },
    {
      "cell_type": "code",
      "source": [
        "columnas = ['age', 'marital', 'education', 'default', 'loan', 'duration', 'y']\n",
        "df_columnas_seleccionadas = df[columnas]"
      ],
      "metadata": {
        "id": "NQW4umpxLMp4"
      },
      "execution_count": 266,
      "outputs": []
    },
    {
      "cell_type": "code",
      "source": [
        "df_columnas_seleccionadas = df_columnas_seleccionadas[df_columnas_seleccionadas['education'] != 'unknown']\n",
        "df_columnas_seleccionadas.reset_index(drop=True, inplace=True)"
      ],
      "metadata": {
        "id": "4gOcEHw8uzvO"
      },
      "execution_count": 267,
      "outputs": []
    },
    {
      "cell_type": "markdown",
      "source": [
        "**SEPARACIÓN DEL SET DE PRUEBA Y DEL SET DE TRAINING**"
      ],
      "metadata": {
        "id": "8TU6dKegNVft"
      }
    },
    {
      "cell_type": "markdown",
      "source": [
        "Ya que lo limpiamos, ahora si dividimos el data set para tener el conjunto que sera entrenado y el conjunto que sera para pruebas (train_data y test_data)"
      ],
      "metadata": {
        "id": "ooEOrtZ6w4tt"
      }
    },
    {
      "cell_type": "code",
      "source": [
        "test_data = df_columnas_seleccionadas.iloc[:21677]\n",
        "train_data = df_columnas_seleccionadas.iloc[21677:]"
      ],
      "metadata": {
        "id": "khewd8cxxAj1"
      },
      "execution_count": 268,
      "outputs": []
    },
    {
      "cell_type": "markdown",
      "source": [
        "Como queremos estudiar si contrataran o no la tarjeta, y ese dato viene en la columna Y, debemos quitar esa información de nuestros fragmentos de datos"
      ],
      "metadata": {
        "id": "QiCjqpW046_X"
      }
    },
    {
      "cell_type": "code",
      "source": [
        "test_labels_target = test_data[\"y\"]\n",
        "test_data = test_data.drop(columns=[\"y\"])\n",
        "train_labels_target = train_data[\"y\"]\n",
        "train_data = train_data.drop(columns=[\"y\"])\n",
        "## modelo de entrenamiento\n",
        "## punto fit paso matrix de las x y de las Y"
      ],
      "metadata": {
        "id": "JXRju1PB43Ug"
      },
      "execution_count": 269,
      "outputs": []
    },
    {
      "cell_type": "code",
      "source": [],
      "metadata": {
        "id": "XzdotuSS_MLh"
      },
      "execution_count": 269,
      "outputs": []
    },
    {
      "cell_type": "markdown",
      "source": [
        "**PREPROCESADO DEL TARGET**\n",
        "*Label Encoder*"
      ],
      "metadata": {
        "id": "nilcxh5INMhi"
      }
    },
    {
      "cell_type": "markdown",
      "source": [
        "Como el modelo solo acepta números, debemos pasar mi target a binario, para eso usaremos Label encoder, ya que:\n",
        "\n",
        "*   Solo tenemos dos categorias (yes / no)\n",
        "*   Al tener solo dos categorias, no hay problema confusión de orde\n",
        "*   Usa menos memoria\n",
        "\n"
      ],
      "metadata": {
        "id": "LhYBoxVRMyh6"
      }
    },
    {
      "cell_type": "code",
      "source": [
        "enc = LabelEncoder()\n",
        "train_labels_target = enc.fit_transform(train_labels_target)\n",
        "test_labels_target = enc.transform(test_labels_target)"
      ],
      "metadata": {
        "id": "i4ZbzBEHdv4z"
      },
      "execution_count": 270,
      "outputs": []
    },
    {
      "cell_type": "markdown",
      "source": [
        "**PREPROCESADO DE FEATURES**"
      ],
      "metadata": {
        "id": "IGQ49umbpScZ"
      }
    },
    {
      "cell_type": "markdown",
      "source": [
        "Usamos OneHotEncoder ya que tenemos mas de dos categorias, nos guiamos con \"Titanic Solution One-Hot-Encode All The Things\""
      ],
      "metadata": {
        "id": "E1Noe61l6cHN"
      }
    },
    {
      "cell_type": "code",
      "source": [
        "# Apply one-hot encoder to each column with categorical data\n",
        "object_cols = train_data.select_dtypes(include='object').columns\n",
        "OH_encoder = OneHotEncoder(handle_unknown='ignore', sparse_output=False)\n",
        "OH_cols_train = pd.DataFrame(OH_encoder.fit_transform(train_data[object_cols]))\n",
        "OH_cols_test = pd.DataFrame(OH_encoder.transform(test_data[object_cols]))\n",
        "\n",
        "OH_cols_train.columns = OH_encoder.get_feature_names_out()\n",
        "OH_cols_test.columns = OH_encoder.get_feature_names_out()\n",
        "\n",
        "# One-hot encoding removed index; put it back\n",
        "OH_cols_train.index = train_data.index\n",
        "OH_cols_test.index = test_data.index\n",
        "\n",
        "# Add one-hot encoded columns to numerical features (age - duration)\n",
        "numeric_columns = train_data.drop(columns=object_cols).columns\n",
        "numeric_train = train_data[numeric_columns]\n",
        "numeric_test = test_data[numeric_columns]\n",
        "\n",
        "train_data = pd.concat([OH_cols_train, numeric_train], axis=1)\n",
        "test_data = pd.concat([OH_cols_test, numeric_test], axis=1)"
      ],
      "metadata": {
        "id": "eMkvIoOFslb8"
      },
      "execution_count": 271,
      "outputs": []
    },
    {
      "cell_type": "markdown",
      "source": [
        "**Construir el modelo**"
      ],
      "metadata": {
        "id": "fDmAFPEpoaU4"
      }
    },
    {
      "cell_type": "code",
      "source": [
        "def get_model_simple(input_shape):\n",
        "    model  =  Sequential([\n",
        "                    Flatten(input_shape=input_shape),\n",
        "                    # las capas del modelo\n",
        "                    Dense(128, activation='relu'),\n",
        "                    Dense(128, activation='relu'),\n",
        "                    # solo necesitamos una neurona de salida cuando trabajamos con binario\n",
        "                    Dense(1, activation='sigmoid')\n",
        "    ])\n",
        "    return model"
      ],
      "metadata": {
        "id": "KQMLJt7togNK"
      },
      "execution_count": 272,
      "outputs": []
    },
    {
      "cell_type": "code",
      "source": [
        "# pasamos los hiperparametros y configurar la red\n",
        "def compile_model_simple(model):\n",
        "    # loss = diferencia entre las predicciones de un modelo\n",
        "    model.compile(optimizer= \"adam\", loss = \"binary_crossentropy\", metrics=['accuracy',\n",
        "                                                                            tf.keras.metrics.Precision(name=\"precision\"),\n",
        "                                                                            tf.keras.metrics.Precision(name=\"recall\"),\n",
        "                                                                           ])"
      ],
      "metadata": {
        "id": "_NJ9XvxDCqIL"
      },
      "execution_count": 273,
      "outputs": []
    },
    {
      "cell_type": "markdown",
      "source": [
        "\n",
        "\n",
        "* train_data son los datos que usaremos para el entrenamiento\n",
        "* train_labels_target para que voy a entrenar mis train_data\n",
        "* epochs las epocas para saber cuantas veces le voy a dar la vuelta\n",
        "\n"
      ],
      "metadata": {
        "id": "A3gE4AiuA4Ey"
      }
    },
    {
      "cell_type": "code",
      "source": [
        "def train_model_simple(model, train_data, train_labels_target):\n",
        "    history = model.fit(train_data, train_labels_target, epochs = 10, class_weight = class_weights)\n",
        "    return history"
      ],
      "metadata": {
        "id": "eW5TJBrs9flm"
      },
      "execution_count": 274,
      "outputs": []
    },
    {
      "cell_type": "markdown",
      "source": [
        "**BALANCEO DE DATOS USANDO K-MEANS SMOTE**"
      ],
      "metadata": {
        "id": "IzA5xc462Qnw"
      }
    },
    {
      "cell_type": "code",
      "source": [
        "print(f\"The number of classes before fit: {Counter(train_labels_target)}\")\n",
        "kms = KMeansSMOTE(random_state=42)\n",
        "train_data, train_labels_target = kms.fit_resample(train_data, train_labels_target)\n",
        "print(f\"The number of classes after fit: {Counter(train_labels_target)}\")"
      ],
      "metadata": {
        "colab": {
          "base_uri": "https://localhost:8080/"
        },
        "id": "c3Zna4mK11HK",
        "outputId": "a682d120-d74a-4a2c-b5fd-50767fb18c43"
      },
      "execution_count": 275,
      "outputs": [
        {
          "output_type": "stream",
          "name": "stdout",
          "text": [
            "The number of classes before fit: Counter({np.int64(0): 17693, np.int64(1): 3984})\n",
            "The number of classes after fit: Counter({np.int64(1): 17694, np.int64(0): 17693})\n"
          ]
        }
      ]
    },
    {
      "cell_type": "markdown",
      "source": [
        "Evitemos que el modelo ignore a la clase minoritaria, decirle al modelo, cuando le va a doler equivocarse\n"
      ],
      "metadata": {
        "id": "XPtCC4NIEhiM"
      }
    },
    {
      "cell_type": "code",
      "source": [
        "weights = class_weight.compute_class_weight('balanced', classes=np.unique(train_labels_target), y=train_labels_target)\n",
        "class_weights = dict(enumerate(weights))"
      ],
      "metadata": {
        "id": "qc2HFTWBDAcn"
      },
      "execution_count": 276,
      "outputs": []
    },
    {
      "cell_type": "markdown",
      "source": [
        "* Obtenemos el modelo, entre mas parametros es mas poderoso el modelo, sin embargo, será mas pesado\n",
        "* Con summary vemos el modelo completo para despues compilarlo\n",
        "* Hacemos el entrenamiento"
      ],
      "metadata": {
        "id": "3U6-ZUfuBa47"
      }
    },
    {
      "cell_type": "code",
      "source": [
        "model_nn = get_model_simple(input_shape=train_data.shape[1:])\n",
        "model_nn.summary()\n",
        "compile_model_simple(model_nn)\n",
        "history_nn = train_model_simple(model_nn, train_data, train_labels_target)"
      ],
      "metadata": {
        "colab": {
          "base_uri": "https://localhost:8080/",
          "height": 678
        },
        "id": "Ahx4aDai_GN8",
        "outputId": "460fcaf0-ffc8-4b1e-dea1-25057cbdfbff"
      },
      "execution_count": 277,
      "outputs": [
        {
          "output_type": "stream",
          "name": "stderr",
          "text": [
            "/usr/local/lib/python3.11/dist-packages/keras/src/layers/reshaping/flatten.py:37: UserWarning: Do not pass an `input_shape`/`input_dim` argument to a layer. When using Sequential models, prefer using an `Input(shape)` object as the first layer in the model instead.\n",
            "  super().__init__(**kwargs)\n"
          ]
        },
        {
          "output_type": "display_data",
          "data": {
            "text/plain": [
              "\u001b[1mModel: \"sequential_10\"\u001b[0m\n"
            ],
            "text/html": [
              "<pre style=\"white-space:pre;overflow-x:auto;line-height:normal;font-family:Menlo,'DejaVu Sans Mono',consolas,'Courier New',monospace\"><span style=\"font-weight: bold\">Model: \"sequential_10\"</span>\n",
              "</pre>\n"
            ]
          },
          "metadata": {}
        },
        {
          "output_type": "display_data",
          "data": {
            "text/plain": [
              "┏━━━━━━━━━━━━━━━━━━━━━━━━━━━━━━━━━┳━━━━━━━━━━━━━━━━━━━━━━━━┳━━━━━━━━━━━━━━━┓\n",
              "┃\u001b[1m \u001b[0m\u001b[1mLayer (type)                   \u001b[0m\u001b[1m \u001b[0m┃\u001b[1m \u001b[0m\u001b[1mOutput Shape          \u001b[0m\u001b[1m \u001b[0m┃\u001b[1m \u001b[0m\u001b[1m      Param #\u001b[0m\u001b[1m \u001b[0m┃\n",
              "┡━━━━━━━━━━━━━━━━━━━━━━━━━━━━━━━━━╇━━━━━━━━━━━━━━━━━━━━━━━━╇━━━━━━━━━━━━━━━┩\n",
              "│ flatten_10 (\u001b[38;5;33mFlatten\u001b[0m)            │ (\u001b[38;5;45mNone\u001b[0m, \u001b[38;5;34m12\u001b[0m)             │             \u001b[38;5;34m0\u001b[0m │\n",
              "├─────────────────────────────────┼────────────────────────┼───────────────┤\n",
              "│ dense_30 (\u001b[38;5;33mDense\u001b[0m)                │ (\u001b[38;5;45mNone\u001b[0m, \u001b[38;5;34m128\u001b[0m)            │         \u001b[38;5;34m1,664\u001b[0m │\n",
              "├─────────────────────────────────┼────────────────────────┼───────────────┤\n",
              "│ dense_31 (\u001b[38;5;33mDense\u001b[0m)                │ (\u001b[38;5;45mNone\u001b[0m, \u001b[38;5;34m128\u001b[0m)            │        \u001b[38;5;34m16,512\u001b[0m │\n",
              "├─────────────────────────────────┼────────────────────────┼───────────────┤\n",
              "│ dense_32 (\u001b[38;5;33mDense\u001b[0m)                │ (\u001b[38;5;45mNone\u001b[0m, \u001b[38;5;34m1\u001b[0m)              │           \u001b[38;5;34m129\u001b[0m │\n",
              "└─────────────────────────────────┴────────────────────────┴───────────────┘\n"
            ],
            "text/html": [
              "<pre style=\"white-space:pre;overflow-x:auto;line-height:normal;font-family:Menlo,'DejaVu Sans Mono',consolas,'Courier New',monospace\">┏━━━━━━━━━━━━━━━━━━━━━━━━━━━━━━━━━┳━━━━━━━━━━━━━━━━━━━━━━━━┳━━━━━━━━━━━━━━━┓\n",
              "┃<span style=\"font-weight: bold\"> Layer (type)                    </span>┃<span style=\"font-weight: bold\"> Output Shape           </span>┃<span style=\"font-weight: bold\">       Param # </span>┃\n",
              "┡━━━━━━━━━━━━━━━━━━━━━━━━━━━━━━━━━╇━━━━━━━━━━━━━━━━━━━━━━━━╇━━━━━━━━━━━━━━━┩\n",
              "│ flatten_10 (<span style=\"color: #0087ff; text-decoration-color: #0087ff\">Flatten</span>)            │ (<span style=\"color: #00d7ff; text-decoration-color: #00d7ff\">None</span>, <span style=\"color: #00af00; text-decoration-color: #00af00\">12</span>)             │             <span style=\"color: #00af00; text-decoration-color: #00af00\">0</span> │\n",
              "├─────────────────────────────────┼────────────────────────┼───────────────┤\n",
              "│ dense_30 (<span style=\"color: #0087ff; text-decoration-color: #0087ff\">Dense</span>)                │ (<span style=\"color: #00d7ff; text-decoration-color: #00d7ff\">None</span>, <span style=\"color: #00af00; text-decoration-color: #00af00\">128</span>)            │         <span style=\"color: #00af00; text-decoration-color: #00af00\">1,664</span> │\n",
              "├─────────────────────────────────┼────────────────────────┼───────────────┤\n",
              "│ dense_31 (<span style=\"color: #0087ff; text-decoration-color: #0087ff\">Dense</span>)                │ (<span style=\"color: #00d7ff; text-decoration-color: #00d7ff\">None</span>, <span style=\"color: #00af00; text-decoration-color: #00af00\">128</span>)            │        <span style=\"color: #00af00; text-decoration-color: #00af00\">16,512</span> │\n",
              "├─────────────────────────────────┼────────────────────────┼───────────────┤\n",
              "│ dense_32 (<span style=\"color: #0087ff; text-decoration-color: #0087ff\">Dense</span>)                │ (<span style=\"color: #00d7ff; text-decoration-color: #00d7ff\">None</span>, <span style=\"color: #00af00; text-decoration-color: #00af00\">1</span>)              │           <span style=\"color: #00af00; text-decoration-color: #00af00\">129</span> │\n",
              "└─────────────────────────────────┴────────────────────────┴───────────────┘\n",
              "</pre>\n"
            ]
          },
          "metadata": {}
        },
        {
          "output_type": "display_data",
          "data": {
            "text/plain": [
              "\u001b[1m Total params: \u001b[0m\u001b[38;5;34m18,305\u001b[0m (71.50 KB)\n"
            ],
            "text/html": [
              "<pre style=\"white-space:pre;overflow-x:auto;line-height:normal;font-family:Menlo,'DejaVu Sans Mono',consolas,'Courier New',monospace\"><span style=\"font-weight: bold\"> Total params: </span><span style=\"color: #00af00; text-decoration-color: #00af00\">18,305</span> (71.50 KB)\n",
              "</pre>\n"
            ]
          },
          "metadata": {}
        },
        {
          "output_type": "display_data",
          "data": {
            "text/plain": [
              "\u001b[1m Trainable params: \u001b[0m\u001b[38;5;34m18,305\u001b[0m (71.50 KB)\n"
            ],
            "text/html": [
              "<pre style=\"white-space:pre;overflow-x:auto;line-height:normal;font-family:Menlo,'DejaVu Sans Mono',consolas,'Courier New',monospace\"><span style=\"font-weight: bold\"> Trainable params: </span><span style=\"color: #00af00; text-decoration-color: #00af00\">18,305</span> (71.50 KB)\n",
              "</pre>\n"
            ]
          },
          "metadata": {}
        },
        {
          "output_type": "display_data",
          "data": {
            "text/plain": [
              "\u001b[1m Non-trainable params: \u001b[0m\u001b[38;5;34m0\u001b[0m (0.00 B)\n"
            ],
            "text/html": [
              "<pre style=\"white-space:pre;overflow-x:auto;line-height:normal;font-family:Menlo,'DejaVu Sans Mono',consolas,'Courier New',monospace\"><span style=\"font-weight: bold\"> Non-trainable params: </span><span style=\"color: #00af00; text-decoration-color: #00af00\">0</span> (0.00 B)\n",
              "</pre>\n"
            ]
          },
          "metadata": {}
        },
        {
          "output_type": "stream",
          "name": "stdout",
          "text": [
            "Epoch 1/10\n",
            "\u001b[1m1106/1106\u001b[0m \u001b[32m━━━━━━━━━━━━━━━━━━━━\u001b[0m\u001b[37m\u001b[0m \u001b[1m5s\u001b[0m 2ms/step - accuracy: 0.8269 - loss: 0.7902 - precision: 0.8291 - recall: 0.8291\n",
            "Epoch 2/10\n",
            "\u001b[1m1106/1106\u001b[0m \u001b[32m━━━━━━━━━━━━━━━━━━━━\u001b[0m\u001b[37m\u001b[0m \u001b[1m3s\u001b[0m 2ms/step - accuracy: 0.8719 - loss: 0.3746 - precision: 0.9004 - recall: 0.9004\n",
            "Epoch 3/10\n",
            "\u001b[1m1106/1106\u001b[0m \u001b[32m━━━━━━━━━━━━━━━━━━━━\u001b[0m\u001b[37m\u001b[0m \u001b[1m3s\u001b[0m 2ms/step - accuracy: 0.8755 - loss: 0.3567 - precision: 0.9049 - recall: 0.9049\n",
            "Epoch 4/10\n",
            "\u001b[1m1106/1106\u001b[0m \u001b[32m━━━━━━━━━━━━━━━━━━━━\u001b[0m\u001b[37m\u001b[0m \u001b[1m3s\u001b[0m 3ms/step - accuracy: 0.8818 - loss: 0.3226 - precision: 0.9153 - recall: 0.9153\n",
            "Epoch 5/10\n",
            "\u001b[1m1106/1106\u001b[0m \u001b[32m━━━━━━━━━━━━━━━━━━━━\u001b[0m\u001b[37m\u001b[0m \u001b[1m4s\u001b[0m 3ms/step - accuracy: 0.8833 - loss: 0.3138 - precision: 0.9175 - recall: 0.9175\n",
            "Epoch 6/10\n",
            "\u001b[1m1106/1106\u001b[0m \u001b[32m━━━━━━━━━━━━━━━━━━━━\u001b[0m\u001b[37m\u001b[0m \u001b[1m4s\u001b[0m 2ms/step - accuracy: 0.8850 - loss: 0.3052 - precision: 0.9221 - recall: 0.9221\n",
            "Epoch 7/10\n",
            "\u001b[1m1106/1106\u001b[0m \u001b[32m━━━━━━━━━━━━━━━━━━━━\u001b[0m\u001b[37m\u001b[0m \u001b[1m2s\u001b[0m 2ms/step - accuracy: 0.8870 - loss: 0.2992 - precision: 0.9241 - recall: 0.9241\n",
            "Epoch 8/10\n",
            "\u001b[1m1106/1106\u001b[0m \u001b[32m━━━━━━━━━━━━━━━━━━━━\u001b[0m\u001b[37m\u001b[0m \u001b[1m3s\u001b[0m 2ms/step - accuracy: 0.8884 - loss: 0.2920 - precision: 0.9261 - recall: 0.9261\n",
            "Epoch 9/10\n",
            "\u001b[1m1106/1106\u001b[0m \u001b[32m━━━━━━━━━━━━━━━━━━━━\u001b[0m\u001b[37m\u001b[0m \u001b[1m4s\u001b[0m 3ms/step - accuracy: 0.8892 - loss: 0.2898 - precision: 0.9270 - recall: 0.9270\n",
            "Epoch 10/10\n",
            "\u001b[1m1106/1106\u001b[0m \u001b[32m━━━━━━━━━━━━━━━━━━━━\u001b[0m\u001b[37m\u001b[0m \u001b[1m4s\u001b[0m 2ms/step - accuracy: 0.8893 - loss: 0.2866 - precision: 0.9278 - recall: 0.9278\n"
          ]
        }
      ]
    },
    {
      "cell_type": "markdown",
      "source": [
        "**MATRIZ DE CONFUSION**\n"
      ],
      "metadata": {
        "id": "OPYmyqKxFyRA"
      }
    },
    {
      "cell_type": "code",
      "source": [
        "predictions_probabilities = model_nn.predict(test_data)\n",
        "predictions = (predictions_probabilities > 0.5).astype(int)\n",
        "predictions = predictions.flatten()\n",
        "\n",
        "cm = confusion_matrix(test_labels_target, predictions)\n",
        "labels = enc.classes_\n",
        "disp = ConfusionMatrixDisplay(confusion_matrix=cm, display_labels=labels)\n",
        "\n",
        "disp.plot(cmap=plt.cm.Blues)\n",
        "plt.show()"
      ],
      "metadata": {
        "colab": {
          "base_uri": "https://localhost:8080/",
          "height": 467
        },
        "id": "akatAMjDF4J-",
        "outputId": "5b6e354d-6918-46e5-c88d-184fac88b3bf"
      },
      "execution_count": 278,
      "outputs": [
        {
          "output_type": "stream",
          "name": "stdout",
          "text": [
            "\u001b[1m678/678\u001b[0m \u001b[32m━━━━━━━━━━━━━━━━━━━━\u001b[0m\u001b[37m\u001b[0m \u001b[1m1s\u001b[0m 1ms/step\n"
          ]
        },
        {
          "output_type": "display_data",
          "data": {
            "text/plain": [
              "<Figure size 640x480 with 2 Axes>"
            ],
            "image/png": "[encoded data removed]"
          },
          "metadata": {}
        }
      ]
    },
    {
      "cell_type": "markdown",
      "source": [
        "De la prediccion:\n",
        "Precision: Cuantos eran realmente positivos\n",
        "Racall: De los TP, cuantos detecto el modelo\n",
        "F1 Score: Media entre Precision y Recall (para datos desbalanceados)\n",
        "Support: Cuantos yes y no había\n",
        "\n",
        "Resumen: conocer si el modelo que tiene datos desbalanceados, realmente esta detectando de manera correcta la clase menos frecuente (yes)"
      ],
      "metadata": {
        "id": "-P4ihSCn4IM2"
      }
    },
    {
      "cell_type": "code",
      "source": [
        "print(classification_report(test_labels_target, predictions, target_names=labels))"
      ],
      "metadata": {
        "colab": {
          "base_uri": "https://localhost:8080/"
        },
        "id": "UuXlv8Xt320V",
        "outputId": "fb3f7be4-5ca6-4ca7-98d8-7182b5498682"
      },
      "execution_count": 279,
      "outputs": [
        {
          "output_type": "stream",
          "name": "stdout",
          "text": [
            "              precision    recall  f1-score   support\n",
            "\n",
            "          no       0.99      0.94      0.97     20624\n",
            "         yes       0.42      0.80      0.55      1053\n",
            "\n",
            "    accuracy                           0.94     21677\n",
            "   macro avg       0.70      0.87      0.76     21677\n",
            "weighted avg       0.96      0.94      0.95     21677\n",
            "\n"
          ]
        }
      ]
    },
    {
      "cell_type": "code",
      "source": [
        "print(test_data.head())\n",
        "print(test_data.tail())"
      ],
      "metadata": {
        "colab": {
          "base_uri": "https://localhost:8080/"
        },
        "id": "OEOAD2InbFu9",
        "outputId": "cbf3e1ab-da86-422e-9570-33ef044b7dd8"
      },
      "execution_count": 280,
      "outputs": [
        {
          "output_type": "stream",
          "name": "stdout",
          "text": [
            "   marital_divorced  marital_married  marital_single  education_primary  \\\n",
            "0               0.0              1.0             0.0                0.0   \n",
            "1               0.0              0.0             1.0                0.0   \n",
            "2               0.0              1.0             0.0                0.0   \n",
            "3               0.0              1.0             0.0                0.0   \n",
            "4               0.0              0.0             1.0                0.0   \n",
            "\n",
            "   education_secondary  education_tertiary  default_no  default_yes  loan_no  \\\n",
            "0                  0.0                 1.0         1.0          0.0      1.0   \n",
            "1                  1.0                 0.0         1.0          0.0      1.0   \n",
            "2                  1.0                 0.0         1.0          0.0      0.0   \n",
            "3                  0.0                 1.0         1.0          0.0      1.0   \n",
            "4                  0.0                 1.0         1.0          0.0      0.0   \n",
            "\n",
            "   loan_yes  age  duration  \n",
            "0       0.0   58       261  \n",
            "1       0.0   44       151  \n",
            "2       1.0   33        76  \n",
            "3       0.0   35       139  \n",
            "4       1.0   28       217  \n",
            "       marital_divorced  marital_married  marital_single  education_primary  \\\n",
            "21672               0.0              1.0             0.0                1.0   \n",
            "21673               1.0              0.0             0.0                0.0   \n",
            "21674               0.0              1.0             0.0                0.0   \n",
            "21675               0.0              1.0             0.0                0.0   \n",
            "21676               0.0              0.0             1.0                0.0   \n",
            "\n",
            "       education_secondary  education_tertiary  default_no  default_yes  \\\n",
            "21672                  0.0                 0.0         1.0          0.0   \n",
            "21673                  1.0                 0.0         1.0          0.0   \n",
            "21674                  0.0                 1.0         1.0          0.0   \n",
            "21675                  0.0                 1.0         1.0          0.0   \n",
            "21676                  0.0                 1.0         1.0          0.0   \n",
            "\n",
            "       loan_no  loan_yes  age  duration  \n",
            "21672      1.0       0.0   50       103  \n",
            "21673      1.0       0.0   39       116  \n",
            "21674      1.0       0.0   50       162  \n",
            "21675      1.0       0.0   36       109  \n",
            "21676      1.0       0.0   36        48  \n"
          ]
        }
      ]
    },
    {
      "cell_type": "markdown",
      "source": [
        "**Matriz de confusion a mano**\n"
      ],
      "metadata": {
        "id": "tarxTMbeQdQj"
      }
    },
    {
      "cell_type": "code",
      "source": [
        "TP = 0\n",
        "FP = 0\n",
        "FN = 0\n",
        "TN = 0\n",
        "\n",
        "for i in range(len(predictions)):\n",
        "    if predictions[i] == 1 and test_labels_target[i] == 1:\n",
        "      TP += 1\n",
        "    elif predictions[i] == 1 and test_labels_target[i] == 0:\n",
        "      FP += 1\n",
        "    elif predictions[i] == 0 and test_labels_target[i] == 1:\n",
        "      FN += 1\n",
        "    else:\n",
        "      TN += 1\n",
        "\n",
        "confusion_matrix = np.array([[TP, FP], [FN, TN]])\n",
        "print(confusion_matrix)\n",
        "\n",
        "plt.imshow(confusion_matrix, cmap='Blues')\n",
        "plt.colorbar()\n",
        "plt.show()"
      ],
      "metadata": {
        "colab": {
          "base_uri": "https://localhost:8080/",
          "height": 471
        },
        "id": "0g4g7fQ8QdAF",
        "outputId": "7ce83bfb-9bd2-46e6-8a16-de6406ac126a"
      },
      "execution_count": 281,
      "outputs": [
        {
          "output_type": "stream",
          "name": "stdout",
          "text": [
            "[[  839  1173]\n",
            " [  214 19451]]\n"
          ]
        },
        {
          "output_type": "display_data",
          "data": {
            "text/plain": [
              "<Figure size 640x480 with 2 Axes>"
            ],
            "image/png": "[encoded data removed]"
          },
          "metadata": {}
        }
      ]
    }
  ]
}