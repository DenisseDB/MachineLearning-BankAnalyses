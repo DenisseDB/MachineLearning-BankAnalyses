{
  "nbformat": 4,
  "nbformat_minor": 0,
  "metadata": {
    "colab": {
      "provenance": [],
      "authorship_tag": "ABX9TyMwxem9NkpQ2SPm0nB1Ak1/",
      "include_colab_link": true
    },
    "kernelspec": {
      "name": "python3",
      "display_name": "Python 3"
    },
    "language_info": {
      "name": "python"
    }
  },
  "cells": [
    {
      "cell_type": "markdown",
      "metadata": {
        "id": "view-in-github",
        "colab_type": "text"
      },
      "source": [
        "<a href=\"https://colab.research.google.com/github/DenisseDB/MachineLearning-BankAnalyses/blob/main/BankSell.ipynb\" target=\"_parent\"><img src=\"https://colab.research.google.com/assets/colab-badge.svg\" alt=\"Open In Colab\"/></a>"
      ]
    },
    {
      "cell_type": "code",
      "source": [
        "import tensorflow as tf\n",
        "import pandas as pd\n",
        "import numpy as np\n",
        "import joblib\n",
        "import matplotlib.pyplot as plt\n",
        "from sklearn.preprocessing import LabelEncoder\n",
        "from sklearn.preprocessing import OneHotEncoder\n",
        "from sklearn.decomposition import PCA\n",
        "from sklearn.metrics import mean_absolute_error, confusion_matrix, ConfusionMatrixDisplay, classification_report\n",
        "from sklearn.utils import class_weight\n",
        "%matplotlib inline\n",
        "\n",
        "# If you would like to make further imports from Tensorflow, add them here\n",
        "\n",
        "from tensorflow.keras.models import Sequential\n",
        "from tensorflow.keras.layers import Dense, Flatten, Conv2D, MaxPooling2D\n",
        "\n",
        "# Data Balancing\n",
        "from collections import Counter\n",
        "from imblearn.over_sampling import KMeansSMOTE"
      ],
      "metadata": {
        "id": "j_egWT9cnXTr"
      },
      "execution_count": 45,
      "outputs": []
    },
    {
      "cell_type": "code",
      "execution_count": 46,
      "metadata": {
        "colab": {
          "base_uri": "https://localhost:8080/"
        },
        "id": "QEOxKS8_jtmw",
        "outputId": "db6dadc4-f410-4774-8ef4-cca4b147a874"
      },
      "outputs": [
        {
          "output_type": "stream",
          "name": "stdout",
          "text": [
            "Drive already mounted at /content/drive; to attempt to forcibly remount, call drive.mount(\"/content/drive\", force_remount=True).\n"
          ]
        }
      ],
      "source": [
        "from google.colab import drive\n",
        "drive.mount('/content/drive')"
      ]
    },
    {
      "cell_type": "code",
      "source": [
        "# /content/drive/MyDrive/BankData/bank-full.csv\n",
        "%cd \"/content/drive/MyDrive/BankData\""
      ],
      "metadata": {
        "colab": {
          "base_uri": "https://localhost:8080/"
        },
        "id": "Oef-y2gVlAuf",
        "outputId": "845ef25e-0391-4afa-db7d-980b13770755"
      },
      "execution_count": 47,
      "outputs": [
        {
          "output_type": "stream",
          "name": "stdout",
          "text": [
            "/content/drive/MyDrive/BankData\n"
          ]
        }
      ]
    },
    {
      "cell_type": "code",
      "source": [
        "tf.random.set_seed(42)\n",
        "np.random.seed(42)"
      ],
      "metadata": {
        "id": "33xFd8V6Y5mD"
      },
      "execution_count": 48,
      "outputs": []
    },
    {
      "cell_type": "markdown",
      "source": [
        "**OBTENER EL DATASET**"
      ],
      "metadata": {
        "id": "-K0g3ErrNhNP"
      }
    },
    {
      "cell_type": "markdown",
      "source": [
        "Cargar mi dataset y dividirlo para lo que usaremos para el test y el train"
      ],
      "metadata": {
        "id": "aVBtnHQVuiYi"
      }
    },
    {
      "cell_type": "code",
      "source": [
        "df = pd.read_csv(\"bank-full.csv\", delimiter=\";\")"
      ],
      "metadata": {
        "id": "LvJiSuFcnVpV"
      },
      "execution_count": 49,
      "outputs": []
    },
    {
      "cell_type": "markdown",
      "source": [
        "*Limpiar los datos*"
      ],
      "metadata": {
        "id": "hdqbxJqNusIT"
      }
    },
    {
      "cell_type": "markdown",
      "source": [
        "Seleccionar columnas que usaremos para el modelo\n"
      ],
      "metadata": {
        "id": "OiJgB7EELISp"
      }
    },
    {
      "cell_type": "code",
      "source": [
        "columnas = ['age', 'marital', 'education', 'default', 'loan', 'duration', 'y']\n",
        "df_columnas_seleccionadas = df[columnas]"
      ],
      "metadata": {
        "id": "NQW4umpxLMp4"
      },
      "execution_count": 50,
      "outputs": []
    },
    {
      "cell_type": "code",
      "source": [
        "df_columnas_seleccionadas = df_columnas_seleccionadas[df_columnas_seleccionadas['education'] != 'unknown']\n",
        "df_columnas_seleccionadas.reset_index(drop=True, inplace=True)"
      ],
      "metadata": {
        "id": "4gOcEHw8uzvO"
      },
      "execution_count": 51,
      "outputs": []
    },
    {
      "cell_type": "markdown",
      "source": [
        "**SEPARACIÓN DEL SET DE PRUEBA Y DEL SET DE TRAINING**"
      ],
      "metadata": {
        "id": "8TU6dKegNVft"
      }
    },
    {
      "cell_type": "markdown",
      "source": [
        "Ya que lo limpiamos, ahora si dividimos el data set para tener el conjunto que sera entrenado y el conjunto que sera para pruebas (train_data y test_data)"
      ],
      "metadata": {
        "id": "ooEOrtZ6w4tt"
      }
    },
    {
      "cell_type": "code",
      "source": [
        "test_data = df_columnas_seleccionadas.iloc[:21677]\n",
        "train_data = df_columnas_seleccionadas.iloc[21677:]"
      ],
      "metadata": {
        "id": "khewd8cxxAj1"
      },
      "execution_count": 52,
      "outputs": []
    },
    {
      "cell_type": "markdown",
      "source": [
        "Como queremos estudiar si contrataran o no la tarjeta, y ese dato viene en la columna Y, debemos quitar esa información de nuestros fragmentos de datos"
      ],
      "metadata": {
        "id": "QiCjqpW046_X"
      }
    },
    {
      "cell_type": "code",
      "source": [
        "test_labels_target = test_data[\"y\"]\n",
        "test_data = test_data.drop(columns=[\"y\"])\n",
        "train_labels_target = train_data[\"y\"]\n",
        "train_data = train_data.drop(columns=[\"y\"])\n",
        "## modelo de entrenamiento\n",
        "## punto fit paso matrix de las x y de las Y"
      ],
      "metadata": {
        "id": "JXRju1PB43Ug"
      },
      "execution_count": 53,
      "outputs": []
    },
    {
      "cell_type": "markdown",
      "source": [
        "**PREPROCESADO DEL TARGET**\n",
        "*Label Encoder*"
      ],
      "metadata": {
        "id": "nilcxh5INMhi"
      }
    },
    {
      "cell_type": "markdown",
      "source": [
        "Como el modelo solo acepta números, debemos pasar mi target a binario, para eso usaremos Label encoder, ya que:\n",
        "\n",
        "*   Solo tenemos dos categorias (yes / no)\n",
        "*   Al tener solo dos categorias, no hay problema confusión de orde\n",
        "*   Usa menos memoria\n",
        "\n"
      ],
      "metadata": {
        "id": "LhYBoxVRMyh6"
      }
    },
    {
      "cell_type": "code",
      "source": [
        "enc = LabelEncoder()\n",
        "train_labels_target = enc.fit_transform(train_labels_target)\n",
        "test_labels_target = enc.transform(test_labels_target)"
      ],
      "metadata": {
        "id": "i4ZbzBEHdv4z"
      },
      "execution_count": 54,
      "outputs": []
    },
    {
      "cell_type": "markdown",
      "source": [
        "**PREPROCESADO DE FEATURES**"
      ],
      "metadata": {
        "id": "IGQ49umbpScZ"
      }
    },
    {
      "cell_type": "markdown",
      "source": [
        "Usamos OneHotEncoder ya que tenemos mas de dos categorias, nos guiamos con \"Titanic Solution One-Hot-Encode All The Things\""
      ],
      "metadata": {
        "id": "E1Noe61l6cHN"
      }
    },
    {
      "cell_type": "code",
      "source": [
        "# Apply one-hot encoder to each column with categorical data\n",
        "object_cols = train_data.select_dtypes(include='object').columns\n",
        "OH_encoder = OneHotEncoder(handle_unknown='ignore', sparse_output=False)\n",
        "OH_encoder.fit(train_data[object_cols])\n",
        "OH_cols_train = pd.DataFrame(OH_encoder.transform(train_data[object_cols]))\n",
        "joblib.dump(OH_encoder, '/content/drive/MyDrive/BankData/onehotencoder.pkl')\n",
        "OH_cols_test = pd.DataFrame(OH_encoder.transform(test_data[object_cols]))\n",
        "\n",
        "OH_cols_train.columns = OH_encoder.get_feature_names_out()\n",
        "OH_cols_test.columns = OH_encoder.get_feature_names_out()\n",
        "\n",
        "# One-hot encoding removed index; put it back\n",
        "OH_cols_train.index = train_data.index\n",
        "OH_cols_test.index = test_data.index\n",
        "\n",
        "# Add one-hot encoded columns to numerical features (age - duration)\n",
        "numeric_columns = train_data.drop(columns=object_cols).columns\n",
        "numeric_train = train_data[numeric_columns]\n",
        "numeric_test = test_data[numeric_columns]\n",
        "\n",
        "train_data = pd.concat([OH_cols_train, numeric_train], axis=1)\n",
        "test_data = pd.concat([OH_cols_test, numeric_test], axis=1)"
      ],
      "metadata": {
        "id": "eMkvIoOFslb8"
      },
      "execution_count": 55,
      "outputs": []
    },
    {
      "cell_type": "markdown",
      "source": [
        "**Construir el modelo**"
      ],
      "metadata": {
        "id": "fDmAFPEpoaU4"
      }
    },
    {
      "cell_type": "code",
      "source": [
        "def get_model_simple(input_shape):\n",
        "    model  =  Sequential([\n",
        "                    Flatten(input_shape=input_shape),\n",
        "                    # las capas del modelo\n",
        "                    Dense(128, activation='relu'),\n",
        "                    Dense(128, activation='relu'),\n",
        "                    # solo necesitamos una neurona de salida cuando trabajamos con binario\n",
        "                    Dense(1, activation='sigmoid')\n",
        "    ])\n",
        "    return model"
      ],
      "metadata": {
        "id": "KQMLJt7togNK"
      },
      "execution_count": 56,
      "outputs": []
    },
    {
      "cell_type": "code",
      "source": [
        "# pasamos los hiperparametros y configurar la red\n",
        "def compile_model_simple(model):\n",
        "    # loss = diferencia entre las predicciones de un modelo\n",
        "    model.compile(optimizer= \"adam\", loss = \"binary_crossentropy\", metrics=['accuracy',\n",
        "                                                                            tf.keras.metrics.Precision(name=\"precision\"),\n",
        "                                                                            tf.keras.metrics.Precision(name=\"recall\"),\n",
        "                                                                           ])"
      ],
      "metadata": {
        "id": "_NJ9XvxDCqIL"
      },
      "execution_count": 57,
      "outputs": []
    },
    {
      "cell_type": "markdown",
      "source": [
        "\n",
        "\n",
        "* train_data son los datos que usaremos para el entrenamiento\n",
        "* train_labels_target para que voy a entrenar mis train_data\n",
        "* epochs las epocas para saber cuantas veces le voy a dar la vuelta\n",
        "\n"
      ],
      "metadata": {
        "id": "A3gE4AiuA4Ey"
      }
    },
    {
      "cell_type": "code",
      "source": [
        "def train_model_simple(model, train_data, train_labels_target):\n",
        "    history = model.fit(train_data, train_labels_target, epochs = 100, class_weight = class_weights)\n",
        "    return history"
      ],
      "metadata": {
        "id": "eW5TJBrs9flm"
      },
      "execution_count": 58,
      "outputs": []
    },
    {
      "cell_type": "markdown",
      "source": [
        "**BALANCEO DE DATOS USANDO K-MEANS SMOTE**"
      ],
      "metadata": {
        "id": "IzA5xc462Qnw"
      }
    },
    {
      "cell_type": "code",
      "source": [
        "print(f\"The number of classes before fit: {Counter(train_labels_target)}\")\n",
        "kms = KMeansSMOTE(random_state=42)\n",
        "train_data, train_labels_target = kms.fit_resample(train_data, train_labels_target)\n",
        "print(f\"The number of classes after fit: {Counter(train_labels_target)}\")"
      ],
      "metadata": {
        "colab": {
          "base_uri": "https://localhost:8080/"
        },
        "id": "c3Zna4mK11HK",
        "outputId": "bf933f3d-71be-46f0-f317-9da8080853ee"
      },
      "execution_count": 59,
      "outputs": [
        {
          "output_type": "stream",
          "name": "stdout",
          "text": [
            "The number of classes before fit: Counter({np.int64(0): 17693, np.int64(1): 3984})\n",
            "The number of classes after fit: Counter({np.int64(1): 17694, np.int64(0): 17693})\n"
          ]
        }
      ]
    },
    {
      "cell_type": "markdown",
      "source": [
        "Evitemos que el modelo ignore a la clase minoritaria, decirle al modelo, cuando le va a doler equivocarse\n"
      ],
      "metadata": {
        "id": "XPtCC4NIEhiM"
      }
    },
    {
      "cell_type": "code",
      "source": [
        "weights = class_weight.compute_class_weight('balanced', classes=np.unique(train_labels_target), y=train_labels_target)\n",
        "class_weights = dict(enumerate(weights))"
      ],
      "metadata": {
        "id": "qc2HFTWBDAcn"
      },
      "execution_count": 60,
      "outputs": []
    },
    {
      "cell_type": "markdown",
      "source": [
        "* Obtenemos el modelo, entre mas parametros es mas poderoso el modelo, sin embargo, será mas pesado\n",
        "* Con summary vemos el modelo completo para despues compilarlo\n",
        "* Hacemos el entrenamiento"
      ],
      "metadata": {
        "id": "3U6-ZUfuBa47"
      }
    },
    {
      "cell_type": "code",
      "source": [
        "model_nn = get_model_simple(input_shape=train_data.shape[1:])\n",
        "model_nn.summary()\n",
        "compile_model_simple(model_nn)\n",
        "history_nn = train_model_simple(model_nn, train_data, train_labels_target)"
      ],
      "metadata": {
        "colab": {
          "base_uri": "https://localhost:8080/",
          "height": 1000
        },
        "id": "Ahx4aDai_GN8",
        "outputId": "2e4f8b2a-a954-4826-ae3a-7b63cc111270"
      },
      "execution_count": 61,
      "outputs": [
        {
          "output_type": "stream",
          "name": "stderr",
          "text": [
            "/usr/local/lib/python3.11/dist-packages/keras/src/layers/reshaping/flatten.py:37: UserWarning: Do not pass an `input_shape`/`input_dim` argument to a layer. When using Sequential models, prefer using an `Input(shape)` object as the first layer in the model instead.\n",
            "  super().__init__(**kwargs)\n"
          ]
        },
        {
          "output_type": "display_data",
          "data": {
            "text/plain": [
              "\u001b[1mModel: \"sequential_1\"\u001b[0m\n"
            ],
            "text/html": [
              "<pre style=\"white-space:pre;overflow-x:auto;line-height:normal;font-family:Menlo,'DejaVu Sans Mono',consolas,'Courier New',monospace\"><span style=\"font-weight: bold\">Model: \"sequential_1\"</span>\n",
              "</pre>\n"
            ]
          },
          "metadata": {}
        },
        {
          "output_type": "display_data",
          "data": {
            "text/plain": [
              "┏━━━━━━━━━━━━━━━━━━━━━━━━━━━━━━━━━┳━━━━━━━━━━━━━━━━━━━━━━━━┳━━━━━━━━━━━━━━━┓\n",
              "┃\u001b[1m \u001b[0m\u001b[1mLayer (type)                   \u001b[0m\u001b[1m \u001b[0m┃\u001b[1m \u001b[0m\u001b[1mOutput Shape          \u001b[0m\u001b[1m \u001b[0m┃\u001b[1m \u001b[0m\u001b[1m      Param #\u001b[0m\u001b[1m \u001b[0m┃\n",
              "┡━━━━━━━━━━━━━━━━━━━━━━━━━━━━━━━━━╇━━━━━━━━━━━━━━━━━━━━━━━━╇━━━━━━━━━━━━━━━┩\n",
              "│ flatten_1 (\u001b[38;5;33mFlatten\u001b[0m)             │ (\u001b[38;5;45mNone\u001b[0m, \u001b[38;5;34m12\u001b[0m)             │             \u001b[38;5;34m0\u001b[0m │\n",
              "├─────────────────────────────────┼────────────────────────┼───────────────┤\n",
              "│ dense_3 (\u001b[38;5;33mDense\u001b[0m)                 │ (\u001b[38;5;45mNone\u001b[0m, \u001b[38;5;34m128\u001b[0m)            │         \u001b[38;5;34m1,664\u001b[0m │\n",
              "├─────────────────────────────────┼────────────────────────┼───────────────┤\n",
              "│ dense_4 (\u001b[38;5;33mDense\u001b[0m)                 │ (\u001b[38;5;45mNone\u001b[0m, \u001b[38;5;34m128\u001b[0m)            │        \u001b[38;5;34m16,512\u001b[0m │\n",
              "├─────────────────────────────────┼────────────────────────┼───────────────┤\n",
              "│ dense_5 (\u001b[38;5;33mDense\u001b[0m)                 │ (\u001b[38;5;45mNone\u001b[0m, \u001b[38;5;34m1\u001b[0m)              │           \u001b[38;5;34m129\u001b[0m │\n",
              "└─────────────────────────────────┴────────────────────────┴───────────────┘\n"
            ],
            "text/html": [
              "<pre style=\"white-space:pre;overflow-x:auto;line-height:normal;font-family:Menlo,'DejaVu Sans Mono',consolas,'Courier New',monospace\">┏━━━━━━━━━━━━━━━━━━━━━━━━━━━━━━━━━┳━━━━━━━━━━━━━━━━━━━━━━━━┳━━━━━━━━━━━━━━━┓\n",
              "┃<span style=\"font-weight: bold\"> Layer (type)                    </span>┃<span style=\"font-weight: bold\"> Output Shape           </span>┃<span style=\"font-weight: bold\">       Param # </span>┃\n",
              "┡━━━━━━━━━━━━━━━━━━━━━━━━━━━━━━━━━╇━━━━━━━━━━━━━━━━━━━━━━━━╇━━━━━━━━━━━━━━━┩\n",
              "│ flatten_1 (<span style=\"color: #0087ff; text-decoration-color: #0087ff\">Flatten</span>)             │ (<span style=\"color: #00d7ff; text-decoration-color: #00d7ff\">None</span>, <span style=\"color: #00af00; text-decoration-color: #00af00\">12</span>)             │             <span style=\"color: #00af00; text-decoration-color: #00af00\">0</span> │\n",
              "├─────────────────────────────────┼────────────────────────┼───────────────┤\n",
              "│ dense_3 (<span style=\"color: #0087ff; text-decoration-color: #0087ff\">Dense</span>)                 │ (<span style=\"color: #00d7ff; text-decoration-color: #00d7ff\">None</span>, <span style=\"color: #00af00; text-decoration-color: #00af00\">128</span>)            │         <span style=\"color: #00af00; text-decoration-color: #00af00\">1,664</span> │\n",
              "├─────────────────────────────────┼────────────────────────┼───────────────┤\n",
              "│ dense_4 (<span style=\"color: #0087ff; text-decoration-color: #0087ff\">Dense</span>)                 │ (<span style=\"color: #00d7ff; text-decoration-color: #00d7ff\">None</span>, <span style=\"color: #00af00; text-decoration-color: #00af00\">128</span>)            │        <span style=\"color: #00af00; text-decoration-color: #00af00\">16,512</span> │\n",
              "├─────────────────────────────────┼────────────────────────┼───────────────┤\n",
              "│ dense_5 (<span style=\"color: #0087ff; text-decoration-color: #0087ff\">Dense</span>)                 │ (<span style=\"color: #00d7ff; text-decoration-color: #00d7ff\">None</span>, <span style=\"color: #00af00; text-decoration-color: #00af00\">1</span>)              │           <span style=\"color: #00af00; text-decoration-color: #00af00\">129</span> │\n",
              "└─────────────────────────────────┴────────────────────────┴───────────────┘\n",
              "</pre>\n"
            ]
          },
          "metadata": {}
        },
        {
          "output_type": "display_data",
          "data": {
            "text/plain": [
              "\u001b[1m Total params: \u001b[0m\u001b[38;5;34m18,305\u001b[0m (71.50 KB)\n"
            ],
            "text/html": [
              "<pre style=\"white-space:pre;overflow-x:auto;line-height:normal;font-family:Menlo,'DejaVu Sans Mono',consolas,'Courier New',monospace\"><span style=\"font-weight: bold\"> Total params: </span><span style=\"color: #00af00; text-decoration-color: #00af00\">18,305</span> (71.50 KB)\n",
              "</pre>\n"
            ]
          },
          "metadata": {}
        },
        {
          "output_type": "display_data",
          "data": {
            "text/plain": [
              "\u001b[1m Trainable params: \u001b[0m\u001b[38;5;34m18,305\u001b[0m (71.50 KB)\n"
            ],
            "text/html": [
              "<pre style=\"white-space:pre;overflow-x:auto;line-height:normal;font-family:Menlo,'DejaVu Sans Mono',consolas,'Courier New',monospace\"><span style=\"font-weight: bold\"> Trainable params: </span><span style=\"color: #00af00; text-decoration-color: #00af00\">18,305</span> (71.50 KB)\n",
              "</pre>\n"
            ]
          },
          "metadata": {}
        },
        {
          "output_type": "display_data",
          "data": {
            "text/plain": [
              "\u001b[1m Non-trainable params: \u001b[0m\u001b[38;5;34m0\u001b[0m (0.00 B)\n"
            ],
            "text/html": [
              "<pre style=\"white-space:pre;overflow-x:auto;line-height:normal;font-family:Menlo,'DejaVu Sans Mono',consolas,'Courier New',monospace\"><span style=\"font-weight: bold\"> Non-trainable params: </span><span style=\"color: #00af00; text-decoration-color: #00af00\">0</span> (0.00 B)\n",
              "</pre>\n"
            ]
          },
          "metadata": {}
        },
        {
          "output_type": "stream",
          "name": "stdout",
          "text": [
            "Epoch 1/100\n",
            "\u001b[1m1106/1106\u001b[0m \u001b[32m━━━━━━━━━━━━━━━━━━━━\u001b[0m\u001b[37m\u001b[0m \u001b[1m8s\u001b[0m 5ms/step - accuracy: 0.8178 - loss: 0.9604 - precision: 0.8180 - recall: 0.8180\n",
            "Epoch 2/100\n",
            "\u001b[1m1106/1106\u001b[0m \u001b[32m━━━━━━━━━━━━━━━━━━━━\u001b[0m\u001b[37m\u001b[0m \u001b[1m5s\u001b[0m 5ms/step - accuracy: 0.8641 - loss: 0.4751 - precision: 0.8887 - recall: 0.8887\n",
            "Epoch 3/100\n",
            "\u001b[1m1106/1106\u001b[0m \u001b[32m━━━━━━━━━━━━━━━━━━━━\u001b[0m\u001b[37m\u001b[0m \u001b[1m3s\u001b[0m 2ms/step - accuracy: 0.8704 - loss: 0.3880 - precision: 0.8974 - recall: 0.8974\n",
            "Epoch 4/100\n",
            "\u001b[1m1106/1106\u001b[0m \u001b[32m━━━━━━━━━━━━━━━━━━━━\u001b[0m\u001b[37m\u001b[0m \u001b[1m3s\u001b[0m 3ms/step - accuracy: 0.8754 - loss: 0.3568 - precision: 0.9051 - recall: 0.9051\n",
            "Epoch 5/100\n",
            "\u001b[1m1106/1106\u001b[0m \u001b[32m━━━━━━━━━━━━━━━━━━━━\u001b[0m\u001b[37m\u001b[0m \u001b[1m3s\u001b[0m 3ms/step - accuracy: 0.8828 - loss: 0.3200 - precision: 0.9161 - recall: 0.9161\n",
            "Epoch 6/100\n",
            "\u001b[1m1106/1106\u001b[0m \u001b[32m━━━━━━━━━━━━━━━━━━━━\u001b[0m\u001b[37m\u001b[0m \u001b[1m4s\u001b[0m 3ms/step - accuracy: 0.8836 - loss: 0.3095 - precision: 0.9194 - recall: 0.9194\n",
            "Epoch 7/100\n",
            "\u001b[1m1106/1106\u001b[0m \u001b[32m━━━━━━━━━━━━━━━━━━━━\u001b[0m\u001b[37m\u001b[0m \u001b[1m2s\u001b[0m 2ms/step - accuracy: 0.8872 - loss: 0.3000 - precision: 0.9255 - recall: 0.9255\n",
            "Epoch 8/100\n",
            "\u001b[1m1106/1106\u001b[0m \u001b[32m━━━━━━━━━━━━━━━━━━━━\u001b[0m\u001b[37m\u001b[0m \u001b[1m3s\u001b[0m 2ms/step - accuracy: 0.8882 - loss: 0.2935 - precision: 0.9253 - recall: 0.9253\n",
            "Epoch 9/100\n",
            "\u001b[1m1106/1106\u001b[0m \u001b[32m━━━━━━━━━━━━━━━━━━━━\u001b[0m\u001b[37m\u001b[0m \u001b[1m3s\u001b[0m 2ms/step - accuracy: 0.8889 - loss: 0.2900 - precision: 0.9265 - recall: 0.9265\n",
            "Epoch 10/100\n",
            "\u001b[1m1106/1106\u001b[0m \u001b[32m━━━━━━━━━━━━━━━━━━━━\u001b[0m\u001b[37m\u001b[0m \u001b[1m3s\u001b[0m 3ms/step - accuracy: 0.8879 - loss: 0.2878 - precision: 0.9248 - recall: 0.9248\n",
            "Epoch 11/100\n",
            "\u001b[1m1106/1106\u001b[0m \u001b[32m━━━━━━━━━━━━━━━━━━━━\u001b[0m\u001b[37m\u001b[0m \u001b[1m5s\u001b[0m 2ms/step - accuracy: 0.8884 - loss: 0.2845 - precision: 0.9262 - recall: 0.9262\n",
            "Epoch 12/100\n",
            "\u001b[1m1106/1106\u001b[0m \u001b[32m━━━━━━━━━━━━━━━━━━━━\u001b[0m\u001b[37m\u001b[0m \u001b[1m3s\u001b[0m 2ms/step - accuracy: 0.8885 - loss: 0.2817 - precision: 0.9271 - recall: 0.9271\n",
            "Epoch 13/100\n",
            "\u001b[1m1106/1106\u001b[0m \u001b[32m━━━━━━━━━━━━━━━━━━━━\u001b[0m\u001b[37m\u001b[0m \u001b[1m3s\u001b[0m 2ms/step - accuracy: 0.8898 - loss: 0.2802 - precision: 0.9292 - recall: 0.9292\n",
            "Epoch 14/100\n",
            "\u001b[1m1106/1106\u001b[0m \u001b[32m━━━━━━━━━━━━━━━━━━━━\u001b[0m\u001b[37m\u001b[0m \u001b[1m6s\u001b[0m 3ms/step - accuracy: 0.8894 - loss: 0.2792 - precision: 0.9292 - recall: 0.9292\n",
            "Epoch 15/100\n",
            "\u001b[1m1106/1106\u001b[0m \u001b[32m━━━━━━━━━━━━━━━━━━━━\u001b[0m\u001b[37m\u001b[0m \u001b[1m4s\u001b[0m 2ms/step - accuracy: 0.8908 - loss: 0.2782 - precision: 0.9318 - recall: 0.9318\n",
            "Epoch 16/100\n",
            "\u001b[1m1106/1106\u001b[0m \u001b[32m━━━━━━━━━━━━━━━━━━━━\u001b[0m\u001b[37m\u001b[0m \u001b[1m2s\u001b[0m 2ms/step - accuracy: 0.8909 - loss: 0.2768 - precision: 0.9328 - recall: 0.9328\n",
            "Epoch 17/100\n",
            "\u001b[1m1106/1106\u001b[0m \u001b[32m━━━━━━━━━━━━━━━━━━━━\u001b[0m\u001b[37m\u001b[0m \u001b[1m3s\u001b[0m 2ms/step - accuracy: 0.8908 - loss: 0.2762 - precision: 0.9328 - recall: 0.9328\n",
            "Epoch 18/100\n",
            "\u001b[1m1106/1106\u001b[0m \u001b[32m━━━━━━━━━━━━━━━━━━━━\u001b[0m\u001b[37m\u001b[0m \u001b[1m4s\u001b[0m 4ms/step - accuracy: 0.8908 - loss: 0.2760 - precision: 0.9346 - recall: 0.9346\n",
            "Epoch 19/100\n",
            "\u001b[1m1106/1106\u001b[0m \u001b[32m━━━━━━━━━━━━━━━━━━━━\u001b[0m\u001b[37m\u001b[0m \u001b[1m4s\u001b[0m 2ms/step - accuracy: 0.8916 - loss: 0.2750 - precision: 0.9349 - recall: 0.9349\n",
            "Epoch 20/100\n",
            "\u001b[1m1106/1106\u001b[0m \u001b[32m━━━━━━━━━━━━━━━━━━━━\u001b[0m\u001b[37m\u001b[0m \u001b[1m2s\u001b[0m 2ms/step - accuracy: 0.8921 - loss: 0.2747 - precision: 0.9371 - recall: 0.9371\n",
            "Epoch 21/100\n",
            "\u001b[1m1106/1106\u001b[0m \u001b[32m━━━━━━━━━━━━━━━━━━━━\u001b[0m\u001b[37m\u001b[0m \u001b[1m3s\u001b[0m 2ms/step - accuracy: 0.8922 - loss: 0.2737 - precision: 0.9374 - recall: 0.9374\n",
            "Epoch 22/100\n",
            "\u001b[1m1106/1106\u001b[0m \u001b[32m━━━━━━━━━━━━━━━━━━━━\u001b[0m\u001b[37m\u001b[0m \u001b[1m6s\u001b[0m 3ms/step - accuracy: 0.8922 - loss: 0.2729 - precision: 0.9382 - recall: 0.9382\n",
            "Epoch 23/100\n",
            "\u001b[1m1106/1106\u001b[0m \u001b[32m━━━━━━━━━━━━━━━━━━━━\u001b[0m\u001b[37m\u001b[0m \u001b[1m3s\u001b[0m 2ms/step - accuracy: 0.8926 - loss: 0.2729 - precision: 0.9382 - recall: 0.9382\n",
            "Epoch 24/100\n",
            "\u001b[1m1106/1106\u001b[0m \u001b[32m━━━━━━━━━━━━━━━━━━━━\u001b[0m\u001b[37m\u001b[0m \u001b[1m3s\u001b[0m 2ms/step - accuracy: 0.8925 - loss: 0.2720 - precision: 0.9389 - recall: 0.9389\n",
            "Epoch 25/100\n",
            "\u001b[1m1106/1106\u001b[0m \u001b[32m━━━━━━━━━━━━━━━━━━━━\u001b[0m\u001b[37m\u001b[0m \u001b[1m3s\u001b[0m 2ms/step - accuracy: 0.8934 - loss: 0.2721 - precision: 0.9399 - recall: 0.9399\n",
            "Epoch 26/100\n",
            "\u001b[1m1106/1106\u001b[0m \u001b[32m━━━━━━━━━━━━━━━━━━━━\u001b[0m\u001b[37m\u001b[0m \u001b[1m4s\u001b[0m 4ms/step - accuracy: 0.8932 - loss: 0.2715 - precision: 0.9408 - recall: 0.9408\n",
            "Epoch 27/100\n",
            "\u001b[1m1106/1106\u001b[0m \u001b[32m━━━━━━━━━━━━━━━━━━━━\u001b[0m\u001b[37m\u001b[0m \u001b[1m3s\u001b[0m 2ms/step - accuracy: 0.8937 - loss: 0.2712 - precision: 0.9412 - recall: 0.9412\n",
            "Epoch 28/100\n",
            "\u001b[1m1106/1106\u001b[0m \u001b[32m━━━━━━━━━━━━━━━━━━━━\u001b[0m\u001b[37m\u001b[0m \u001b[1m3s\u001b[0m 2ms/step - accuracy: 0.8932 - loss: 0.2711 - precision: 0.9408 - recall: 0.9408\n",
            "Epoch 29/100\n",
            "\u001b[1m1106/1106\u001b[0m \u001b[32m━━━━━━━━━━━━━━━━━━━━\u001b[0m\u001b[37m\u001b[0m \u001b[1m5s\u001b[0m 2ms/step - accuracy: 0.8936 - loss: 0.2706 - precision: 0.9414 - recall: 0.9414\n",
            "Epoch 30/100\n",
            "\u001b[1m1106/1106\u001b[0m \u001b[32m━━━━━━━━━━━━━━━━━━━━\u001b[0m\u001b[37m\u001b[0m \u001b[1m5s\u001b[0m 2ms/step - accuracy: 0.8940 - loss: 0.2702 - precision: 0.9420 - recall: 0.9420\n",
            "Epoch 31/100\n",
            "\u001b[1m1106/1106\u001b[0m \u001b[32m━━━━━━━━━━━━━━━━━━━━\u001b[0m\u001b[37m\u001b[0m \u001b[1m5s\u001b[0m 2ms/step - accuracy: 0.8939 - loss: 0.2694 - precision: 0.9423 - recall: 0.9423\n",
            "Epoch 32/100\n",
            "\u001b[1m1106/1106\u001b[0m \u001b[32m━━━━━━━━━━━━━━━━━━━━\u001b[0m\u001b[37m\u001b[0m \u001b[1m6s\u001b[0m 3ms/step - accuracy: 0.8934 - loss: 0.2695 - precision: 0.9435 - recall: 0.9435\n",
            "Epoch 33/100\n",
            "\u001b[1m1106/1106\u001b[0m \u001b[32m━━━━━━━━━━━━━━━━━━━━\u001b[0m\u001b[37m\u001b[0m \u001b[1m3s\u001b[0m 2ms/step - accuracy: 0.8940 - loss: 0.2689 - precision: 0.9431 - recall: 0.9431\n",
            "Epoch 34/100\n",
            "\u001b[1m1106/1106\u001b[0m \u001b[32m━━━━━━━━━━━━━━━━━━━━\u001b[0m\u001b[37m\u001b[0m \u001b[1m3s\u001b[0m 3ms/step - accuracy: 0.8940 - loss: 0.2683 - precision: 0.9430 - recall: 0.9430\n",
            "Epoch 35/100\n",
            "\u001b[1m1106/1106\u001b[0m \u001b[32m━━━━━━━━━━━━━━━━━━━━\u001b[0m\u001b[37m\u001b[0m \u001b[1m5s\u001b[0m 3ms/step - accuracy: 0.8941 - loss: 0.2679 - precision: 0.9448 - recall: 0.9448\n",
            "Epoch 36/100\n",
            "\u001b[1m1106/1106\u001b[0m \u001b[32m━━━━━━━━━━━━━━━━━━━━\u001b[0m\u001b[37m\u001b[0m \u001b[1m5s\u001b[0m 2ms/step - accuracy: 0.8949 - loss: 0.2673 - precision: 0.9455 - recall: 0.9455\n",
            "Epoch 37/100\n",
            "\u001b[1m1106/1106\u001b[0m \u001b[32m━━━━━━━━━━━━━━━━━━━━\u001b[0m\u001b[37m\u001b[0m \u001b[1m5s\u001b[0m 2ms/step - accuracy: 0.8949 - loss: 0.2669 - precision: 0.9450 - recall: 0.9450\n",
            "Epoch 38/100\n",
            "\u001b[1m1106/1106\u001b[0m \u001b[32m━━━━━━━━━━━━━━━━━━━━\u001b[0m\u001b[37m\u001b[0m \u001b[1m3s\u001b[0m 3ms/step - accuracy: 0.8952 - loss: 0.2672 - precision: 0.9456 - recall: 0.9456\n",
            "Epoch 39/100\n",
            "\u001b[1m1106/1106\u001b[0m \u001b[32m━━━━━━━━━━━━━━━━━━━━\u001b[0m\u001b[37m\u001b[0m \u001b[1m5s\u001b[0m 2ms/step - accuracy: 0.8948 - loss: 0.2660 - precision: 0.9454 - recall: 0.9454\n",
            "Epoch 40/100\n",
            "\u001b[1m1106/1106\u001b[0m \u001b[32m━━━━━━━━━━━━━━━━━━━━\u001b[0m\u001b[37m\u001b[0m \u001b[1m3s\u001b[0m 2ms/step - accuracy: 0.8948 - loss: 0.2666 - precision: 0.9456 - recall: 0.9456\n",
            "Epoch 41/100\n",
            "\u001b[1m1106/1106\u001b[0m \u001b[32m━━━━━━━━━━━━━━━━━━━━\u001b[0m\u001b[37m\u001b[0m \u001b[1m5s\u001b[0m 3ms/step - accuracy: 0.8949 - loss: 0.2658 - precision: 0.9455 - recall: 0.9455\n",
            "Epoch 42/100\n",
            "\u001b[1m1106/1106\u001b[0m \u001b[32m━━━━━━━━━━━━━━━━━━━━\u001b[0m\u001b[37m\u001b[0m \u001b[1m5s\u001b[0m 2ms/step - accuracy: 0.8945 - loss: 0.2658 - precision: 0.9454 - recall: 0.9454\n",
            "Epoch 43/100\n",
            "\u001b[1m1106/1106\u001b[0m \u001b[32m━━━━━━━━━━━━━━━━━━━━\u001b[0m\u001b[37m\u001b[0m \u001b[1m3s\u001b[0m 2ms/step - accuracy: 0.8949 - loss: 0.2655 - precision: 0.9466 - recall: 0.9466\n",
            "Epoch 44/100\n",
            "\u001b[1m1106/1106\u001b[0m \u001b[32m━━━━━━━━━━━━━━━━━━━━\u001b[0m\u001b[37m\u001b[0m \u001b[1m5s\u001b[0m 3ms/step - accuracy: 0.8943 - loss: 0.2645 - precision: 0.9457 - recall: 0.9457\n",
            "Epoch 45/100\n",
            "\u001b[1m1106/1106\u001b[0m \u001b[32m━━━━━━━━━━━━━━━━━━━━\u001b[0m\u001b[37m\u001b[0m \u001b[1m4s\u001b[0m 3ms/step - accuracy: 0.8940 - loss: 0.2652 - precision: 0.9456 - recall: 0.9456\n",
            "Epoch 46/100\n",
            "\u001b[1m1106/1106\u001b[0m \u001b[32m━━━━━━━━━━━━━━━━━━━━\u001b[0m\u001b[37m\u001b[0m \u001b[1m3s\u001b[0m 2ms/step - accuracy: 0.8951 - loss: 0.2643 - precision: 0.9472 - recall: 0.9472\n",
            "Epoch 47/100\n",
            "\u001b[1m1106/1106\u001b[0m \u001b[32m━━━━━━━━━━━━━━━━━━━━\u001b[0m\u001b[37m\u001b[0m \u001b[1m3s\u001b[0m 2ms/step - accuracy: 0.8943 - loss: 0.2647 - precision: 0.9454 - recall: 0.9454\n",
            "Epoch 48/100\n",
            "\u001b[1m1106/1106\u001b[0m \u001b[32m━━━━━━━━━━━━━━━━━━━━\u001b[0m\u001b[37m\u001b[0m \u001b[1m3s\u001b[0m 2ms/step - accuracy: 0.8945 - loss: 0.2643 - precision: 0.9467 - recall: 0.9467\n",
            "Epoch 49/100\n",
            "\u001b[1m1106/1106\u001b[0m \u001b[32m━━━━━━━━━━━━━━━━━━━━\u001b[0m\u001b[37m\u001b[0m \u001b[1m3s\u001b[0m 3ms/step - accuracy: 0.8946 - loss: 0.2643 - precision: 0.9458 - recall: 0.9458\n",
            "Epoch 50/100\n",
            "\u001b[1m1106/1106\u001b[0m \u001b[32m━━━━━━━━━━━━━━━━━━━━\u001b[0m\u001b[37m\u001b[0m \u001b[1m5s\u001b[0m 2ms/step - accuracy: 0.8949 - loss: 0.2638 - precision: 0.9470 - recall: 0.9470\n",
            "Epoch 51/100\n",
            "\u001b[1m1106/1106\u001b[0m \u001b[32m━━━━━━━━━━━━━━━━━━━━\u001b[0m\u001b[37m\u001b[0m \u001b[1m3s\u001b[0m 2ms/step - accuracy: 0.8943 - loss: 0.2637 - precision: 0.9472 - recall: 0.9472\n",
            "Epoch 52/100\n",
            "\u001b[1m1106/1106\u001b[0m \u001b[32m━━━━━━━━━━━━━━━━━━━━\u001b[0m\u001b[37m\u001b[0m \u001b[1m7s\u001b[0m 4ms/step - accuracy: 0.8942 - loss: 0.2633 - precision: 0.9473 - recall: 0.9473\n",
            "Epoch 53/100\n",
            "\u001b[1m1106/1106\u001b[0m \u001b[32m━━━━━━━━━━━━━━━━━━━━\u001b[0m\u001b[37m\u001b[0m \u001b[1m3s\u001b[0m 3ms/step - accuracy: 0.8946 - loss: 0.2632 - precision: 0.9477 - recall: 0.9477\n",
            "Epoch 54/100\n",
            "\u001b[1m1106/1106\u001b[0m \u001b[32m━━━━━━━━━━━━━━━━━━━━\u001b[0m\u001b[37m\u001b[0m \u001b[1m4s\u001b[0m 2ms/step - accuracy: 0.8948 - loss: 0.2629 - precision: 0.9479 - recall: 0.9479\n",
            "Epoch 55/100\n",
            "\u001b[1m1106/1106\u001b[0m \u001b[32m━━━━━━━━━━━━━━━━━━━━\u001b[0m\u001b[37m\u001b[0m \u001b[1m3s\u001b[0m 2ms/step - accuracy: 0.8944 - loss: 0.2631 - precision: 0.9473 - recall: 0.9473\n",
            "Epoch 56/100\n",
            "\u001b[1m1106/1106\u001b[0m \u001b[32m━━━━━━━━━━━━━━━━━━━━\u001b[0m\u001b[37m\u001b[0m \u001b[1m3s\u001b[0m 3ms/step - accuracy: 0.8944 - loss: 0.2617 - precision: 0.9491 - recall: 0.9491\n",
            "Epoch 57/100\n",
            "\u001b[1m1106/1106\u001b[0m \u001b[32m━━━━━━━━━━━━━━━━━━━━\u001b[0m\u001b[37m\u001b[0m \u001b[1m4s\u001b[0m 2ms/step - accuracy: 0.8940 - loss: 0.2627 - precision: 0.9469 - recall: 0.9469\n",
            "Epoch 58/100\n",
            "\u001b[1m1106/1106\u001b[0m \u001b[32m━━━━━━━━━━━━━━━━━━━━\u001b[0m\u001b[37m\u001b[0m \u001b[1m5s\u001b[0m 2ms/step - accuracy: 0.8949 - loss: 0.2621 - precision: 0.9486 - recall: 0.9486\n",
            "Epoch 59/100\n",
            "\u001b[1m1106/1106\u001b[0m \u001b[32m━━━━━━━━━━━━━━━━━━━━\u001b[0m\u001b[37m\u001b[0m \u001b[1m3s\u001b[0m 3ms/step - accuracy: 0.8951 - loss: 0.2619 - precision: 0.9486 - recall: 0.9486\n",
            "Epoch 60/100\n",
            "\u001b[1m1106/1106\u001b[0m \u001b[32m━━━━━━━━━━━━━━━━━━━━\u001b[0m\u001b[37m\u001b[0m \u001b[1m4s\u001b[0m 3ms/step - accuracy: 0.8951 - loss: 0.2615 - precision: 0.9492 - recall: 0.9492\n",
            "Epoch 61/100\n",
            "\u001b[1m1106/1106\u001b[0m \u001b[32m━━━━━━━━━━━━━━━━━━━━\u001b[0m\u001b[37m\u001b[0m \u001b[1m4s\u001b[0m 2ms/step - accuracy: 0.8948 - loss: 0.2622 - precision: 0.9494 - recall: 0.9494\n",
            "Epoch 62/100\n",
            "\u001b[1m1106/1106\u001b[0m \u001b[32m━━━━━━━━━━━━━━━━━━━━\u001b[0m\u001b[37m\u001b[0m \u001b[1m3s\u001b[0m 3ms/step - accuracy: 0.8948 - loss: 0.2617 - precision: 0.9499 - recall: 0.9499\n",
            "Epoch 63/100\n",
            "\u001b[1m1106/1106\u001b[0m \u001b[32m━━━━━━━━━━━━━━━━━━━━\u001b[0m\u001b[37m\u001b[0m \u001b[1m6s\u001b[0m 4ms/step - accuracy: 0.8944 - loss: 0.2620 - precision: 0.9487 - recall: 0.9487\n",
            "Epoch 64/100\n",
            "\u001b[1m1106/1106\u001b[0m \u001b[32m━━━━━━━━━━━━━━━━━━━━\u001b[0m\u001b[37m\u001b[0m \u001b[1m3s\u001b[0m 2ms/step - accuracy: 0.8956 - loss: 0.2614 - precision: 0.9504 - recall: 0.9504\n",
            "Epoch 65/100\n",
            "\u001b[1m1106/1106\u001b[0m \u001b[32m━━━━━━━━━━━━━━━━━━━━\u001b[0m\u001b[37m\u001b[0m \u001b[1m5s\u001b[0m 2ms/step - accuracy: 0.8951 - loss: 0.2618 - precision: 0.9494 - recall: 0.9494\n",
            "Epoch 66/100\n",
            "\u001b[1m1106/1106\u001b[0m \u001b[32m━━━━━━━━━━━━━━━━━━━━\u001b[0m\u001b[37m\u001b[0m \u001b[1m3s\u001b[0m 2ms/step - accuracy: 0.8947 - loss: 0.2615 - precision: 0.9492 - recall: 0.9492\n",
            "Epoch 67/100\n",
            "\u001b[1m1106/1106\u001b[0m \u001b[32m━━━━━━━━━━━━━━━━━━━━\u001b[0m\u001b[37m\u001b[0m \u001b[1m5s\u001b[0m 2ms/step - accuracy: 0.8946 - loss: 0.2614 - precision: 0.9490 - recall: 0.9490\n",
            "Epoch 68/100\n",
            "\u001b[1m1106/1106\u001b[0m \u001b[32m━━━━━━━━━━━━━━━━━━━━\u001b[0m\u001b[37m\u001b[0m \u001b[1m3s\u001b[0m 2ms/step - accuracy: 0.8948 - loss: 0.2615 - precision: 0.9489 - recall: 0.9489\n",
            "Epoch 69/100\n",
            "\u001b[1m1106/1106\u001b[0m \u001b[32m━━━━━━━━━━━━━━━━━━━━\u001b[0m\u001b[37m\u001b[0m \u001b[1m5s\u001b[0m 3ms/step - accuracy: 0.8934 - loss: 0.2619 - precision: 0.9477 - recall: 0.9477\n",
            "Epoch 70/100\n",
            "\u001b[1m1106/1106\u001b[0m \u001b[32m━━━━━━━━━━━━━━━━━━━━\u001b[0m\u001b[37m\u001b[0m \u001b[1m4s\u001b[0m 3ms/step - accuracy: 0.8948 - loss: 0.2612 - precision: 0.9488 - recall: 0.9488\n",
            "Epoch 71/100\n",
            "\u001b[1m1106/1106\u001b[0m \u001b[32m━━━━━━━━━━━━━━━━━━━━\u001b[0m\u001b[37m\u001b[0m \u001b[1m4s\u001b[0m 2ms/step - accuracy: 0.8939 - loss: 0.2619 - precision: 0.9473 - recall: 0.9473\n",
            "Epoch 72/100\n",
            "\u001b[1m1106/1106\u001b[0m \u001b[32m━━━━━━━━━━━━━━━━━━━━\u001b[0m\u001b[37m\u001b[0m \u001b[1m5s\u001b[0m 2ms/step - accuracy: 0.8943 - loss: 0.2611 - precision: 0.9481 - recall: 0.9481\n",
            "Epoch 73/100\n",
            "\u001b[1m1106/1106\u001b[0m \u001b[32m━━━━━━━━━━━━━━━━━━━━\u001b[0m\u001b[37m\u001b[0m \u001b[1m4s\u001b[0m 3ms/step - accuracy: 0.8941 - loss: 0.2612 - precision: 0.9479 - recall: 0.9479\n",
            "Epoch 74/100\n",
            "\u001b[1m1106/1106\u001b[0m \u001b[32m━━━━━━━━━━━━━━━━━━━━\u001b[0m\u001b[37m\u001b[0m \u001b[1m4s\u001b[0m 2ms/step - accuracy: 0.8951 - loss: 0.2610 - precision: 0.9500 - recall: 0.9500\n",
            "Epoch 75/100\n",
            "\u001b[1m1106/1106\u001b[0m \u001b[32m━━━━━━━━━━━━━━━━━━━━\u001b[0m\u001b[37m\u001b[0m \u001b[1m5s\u001b[0m 2ms/step - accuracy: 0.8941 - loss: 0.2608 - precision: 0.9485 - recall: 0.9485\n",
            "Epoch 76/100\n",
            "\u001b[1m1106/1106\u001b[0m \u001b[32m━━━━━━━━━━━━━━━━━━━━\u001b[0m\u001b[37m\u001b[0m \u001b[1m6s\u001b[0m 3ms/step - accuracy: 0.8950 - loss: 0.2606 - precision: 0.9503 - recall: 0.9503\n",
            "Epoch 77/100\n",
            "\u001b[1m1106/1106\u001b[0m \u001b[32m━━━━━━━━━━━━━━━━━━━━\u001b[0m\u001b[37m\u001b[0m \u001b[1m4s\u001b[0m 2ms/step - accuracy: 0.8944 - loss: 0.2604 - precision: 0.9485 - recall: 0.9485\n",
            "Epoch 78/100\n",
            "\u001b[1m1106/1106\u001b[0m \u001b[32m━━━━━━━━━━━━━━━━━━━━\u001b[0m\u001b[37m\u001b[0m \u001b[1m5s\u001b[0m 3ms/step - accuracy: 0.8942 - loss: 0.2599 - precision: 0.9509 - recall: 0.9509\n",
            "Epoch 79/100\n",
            "\u001b[1m1106/1106\u001b[0m \u001b[32m━━━━━━━━━━━━━━━━━━━━\u001b[0m\u001b[37m\u001b[0m \u001b[1m5s\u001b[0m 2ms/step - accuracy: 0.8941 - loss: 0.2602 - precision: 0.9494 - recall: 0.9494\n",
            "Epoch 80/100\n",
            "\u001b[1m1106/1106\u001b[0m \u001b[32m━━━━━━━━━━━━━━━━━━━━\u001b[0m\u001b[37m\u001b[0m \u001b[1m5s\u001b[0m 2ms/step - accuracy: 0.8946 - loss: 0.2598 - precision: 0.9504 - recall: 0.9504\n",
            "Epoch 81/100\n",
            "\u001b[1m1106/1106\u001b[0m \u001b[32m━━━━━━━━━━━━━━━━━━━━\u001b[0m\u001b[37m\u001b[0m \u001b[1m3s\u001b[0m 3ms/step - accuracy: 0.8940 - loss: 0.2602 - precision: 0.9495 - recall: 0.9495\n",
            "Epoch 82/100\n",
            "\u001b[1m1106/1106\u001b[0m \u001b[32m━━━━━━━━━━━━━━━━━━━━\u001b[0m\u001b[37m\u001b[0m \u001b[1m4s\u001b[0m 3ms/step - accuracy: 0.8941 - loss: 0.2606 - precision: 0.9489 - recall: 0.9489\n",
            "Epoch 83/100\n",
            "\u001b[1m1106/1106\u001b[0m \u001b[32m━━━━━━━━━━━━━━━━━━━━\u001b[0m\u001b[37m\u001b[0m \u001b[1m4s\u001b[0m 2ms/step - accuracy: 0.8942 - loss: 0.2599 - precision: 0.9496 - recall: 0.9496\n",
            "Epoch 84/100\n",
            "\u001b[1m1106/1106\u001b[0m \u001b[32m━━━━━━━━━━━━━━━━━━━━\u001b[0m\u001b[37m\u001b[0m \u001b[1m5s\u001b[0m 2ms/step - accuracy: 0.8952 - loss: 0.2599 - precision: 0.9519 - recall: 0.9519\n",
            "Epoch 85/100\n",
            "\u001b[1m1106/1106\u001b[0m \u001b[32m━━━━━━━━━━━━━━━━━━━━\u001b[0m\u001b[37m\u001b[0m \u001b[1m5s\u001b[0m 2ms/step - accuracy: 0.8950 - loss: 0.2598 - precision: 0.9510 - recall: 0.9510\n",
            "Epoch 86/100\n",
            "\u001b[1m1106/1106\u001b[0m \u001b[32m━━━━━━━━━━━━━━━━━━━━\u001b[0m\u001b[37m\u001b[0m \u001b[1m3s\u001b[0m 2ms/step - accuracy: 0.8945 - loss: 0.2601 - precision: 0.9521 - recall: 0.9521\n",
            "Epoch 87/100\n",
            "\u001b[1m1106/1106\u001b[0m \u001b[32m━━━━━━━━━━━━━━━━━━━━\u001b[0m\u001b[37m\u001b[0m \u001b[1m3s\u001b[0m 2ms/step - accuracy: 0.8942 - loss: 0.2602 - precision: 0.9499 - recall: 0.9499\n",
            "Epoch 88/100\n",
            "\u001b[1m1106/1106\u001b[0m \u001b[32m━━━━━━━━━━━━━━━━━━━━\u001b[0m\u001b[37m\u001b[0m \u001b[1m3s\u001b[0m 2ms/step - accuracy: 0.8943 - loss: 0.2596 - precision: 0.9520 - recall: 0.9520\n",
            "Epoch 89/100\n",
            "\u001b[1m1106/1106\u001b[0m \u001b[32m━━━━━━━━━━━━━━━━━━━━\u001b[0m\u001b[37m\u001b[0m \u001b[1m5s\u001b[0m 2ms/step - accuracy: 0.8937 - loss: 0.2597 - precision: 0.9504 - recall: 0.9504\n",
            "Epoch 90/100\n",
            "\u001b[1m1106/1106\u001b[0m \u001b[32m━━━━━━━━━━━━━━━━━━━━\u001b[0m\u001b[37m\u001b[0m \u001b[1m5s\u001b[0m 2ms/step - accuracy: 0.8946 - loss: 0.2597 - precision: 0.9513 - recall: 0.9513\n",
            "Epoch 91/100\n",
            "\u001b[1m1106/1106\u001b[0m \u001b[32m━━━━━━━━━━━━━━━━━━━━\u001b[0m\u001b[37m\u001b[0m \u001b[1m6s\u001b[0m 4ms/step - accuracy: 0.8949 - loss: 0.2596 - precision: 0.9533 - recall: 0.9533\n",
            "Epoch 92/100\n",
            "\u001b[1m1106/1106\u001b[0m \u001b[32m━━━━━━━━━━━━━━━━━━━━\u001b[0m\u001b[37m\u001b[0m \u001b[1m4s\u001b[0m 2ms/step - accuracy: 0.8945 - loss: 0.2598 - precision: 0.9519 - recall: 0.9519\n",
            "Epoch 93/100\n",
            "\u001b[1m1106/1106\u001b[0m \u001b[32m━━━━━━━━━━━━━━━━━━━━\u001b[0m\u001b[37m\u001b[0m \u001b[1m5s\u001b[0m 2ms/step - accuracy: 0.8935 - loss: 0.2599 - precision: 0.9503 - recall: 0.9503\n",
            "Epoch 94/100\n",
            "\u001b[1m1106/1106\u001b[0m \u001b[32m━━━━━━━━━━━━━━━━━━━━\u001b[0m\u001b[37m\u001b[0m \u001b[1m4s\u001b[0m 3ms/step - accuracy: 0.8940 - loss: 0.2596 - precision: 0.9507 - recall: 0.9507\n",
            "Epoch 95/100\n",
            "\u001b[1m1106/1106\u001b[0m \u001b[32m━━━━━━━━━━━━━━━━━━━━\u001b[0m\u001b[37m\u001b[0m \u001b[1m4s\u001b[0m 2ms/step - accuracy: 0.8941 - loss: 0.2593 - precision: 0.9506 - recall: 0.9506\n",
            "Epoch 96/100\n",
            "\u001b[1m1106/1106\u001b[0m \u001b[32m━━━━━━━━━━━━━━━━━━━━\u001b[0m\u001b[37m\u001b[0m \u001b[1m3s\u001b[0m 2ms/step - accuracy: 0.8947 - loss: 0.2591 - precision: 0.9516 - recall: 0.9516\n",
            "Epoch 97/100\n",
            "\u001b[1m1106/1106\u001b[0m \u001b[32m━━━━━━━━━━━━━━━━━━━━\u001b[0m\u001b[37m\u001b[0m \u001b[1m6s\u001b[0m 3ms/step - accuracy: 0.8938 - loss: 0.2595 - precision: 0.9495 - recall: 0.9495\n",
            "Epoch 98/100\n",
            "\u001b[1m1106/1106\u001b[0m \u001b[32m━━━━━━━━━━━━━━━━━━━━\u001b[0m\u001b[37m\u001b[0m \u001b[1m5s\u001b[0m 2ms/step - accuracy: 0.8943 - loss: 0.2594 - precision: 0.9517 - recall: 0.9517\n",
            "Epoch 99/100\n",
            "\u001b[1m1106/1106\u001b[0m \u001b[32m━━━━━━━━━━━━━━━━━━━━\u001b[0m\u001b[37m\u001b[0m \u001b[1m3s\u001b[0m 2ms/step - accuracy: 0.8945 - loss: 0.2593 - precision: 0.9508 - recall: 0.9508\n",
            "Epoch 100/100\n",
            "\u001b[1m1106/1106\u001b[0m \u001b[32m━━━━━━━━━━━━━━━━━━━━\u001b[0m\u001b[37m\u001b[0m \u001b[1m5s\u001b[0m 3ms/step - accuracy: 0.8945 - loss: 0.2590 - precision: 0.9507 - recall: 0.9507\n"
          ]
        }
      ]
    },
    {
      "cell_type": "markdown",
      "source": [
        "**MATRIZ DE CONFUSION**\n"
      ],
      "metadata": {
        "id": "OPYmyqKxFyRA"
      }
    },
    {
      "cell_type": "code",
      "source": [
        "predictions_probabilities = model_nn.predict(test_data)\n",
        "predictions = (predictions_probabilities > 0.5).astype(int)\n",
        "predictions = predictions.flatten()\n",
        "\n",
        "cm = confusion_matrix(test_labels_target, predictions)\n",
        "labels = enc.classes_\n",
        "disp = ConfusionMatrixDisplay(confusion_matrix=cm, display_labels=labels)\n",
        "\n",
        "disp.plot(cmap=plt.cm.Blues)\n",
        "plt.show()"
      ],
      "metadata": {
        "colab": {
          "base_uri": "https://localhost:8080/",
          "height": 466
        },
        "id": "akatAMjDF4J-",
        "outputId": "2c74a586-0096-4213-a4b1-3995e79630b8"
      },
      "execution_count": 62,
      "outputs": [
        {
          "output_type": "stream",
          "name": "stdout",
          "text": [
            "\u001b[1m678/678\u001b[0m \u001b[32m━━━━━━━━━━━━━━━━━━━━\u001b[0m\u001b[37m\u001b[0m \u001b[1m1s\u001b[0m 2ms/step\n"
          ]
        },
        {
          "output_type": "display_data",
          "data": {
            "text/plain": [
              "<Figure size 640x480 with 2 Axes>"
            ],
            "image/png": "[encoded data removed]"
          },
          "metadata": {}
        }
      ]
    },
    {
      "cell_type": "markdown",
      "source": [
        "De la prediccion:\n",
        "Precision: Cuantos eran realmente positivos\n",
        "Racall: De los TP, cuantos detecto el modelo\n",
        "F1 Score: Media entre Precision y Recall (para datos desbalanceados)\n",
        "Support: Cuantos yes y no había\n",
        "\n",
        "Resumen: conocer si el modelo que tiene datos desbalanceados, realmente esta detectando de manera correcta la clase menos frecuente (yes)"
      ],
      "metadata": {
        "id": "-P4ihSCn4IM2"
      }
    },
    {
      "cell_type": "code",
      "source": [
        "print(classification_report(test_labels_target, predictions, target_names=labels))"
      ],
      "metadata": {
        "colab": {
          "base_uri": "https://localhost:8080/"
        },
        "id": "UuXlv8Xt320V",
        "outputId": "40b08e77-6dd1-4ab8-de71-18974e20cc46"
      },
      "execution_count": 63,
      "outputs": [
        {
          "output_type": "stream",
          "name": "stdout",
          "text": [
            "              precision    recall  f1-score   support\n",
            "\n",
            "          no       0.98      0.96      0.97     20624\n",
            "         yes       0.44      0.68      0.53      1053\n",
            "\n",
            "    accuracy                           0.94     21677\n",
            "   macro avg       0.71      0.82      0.75     21677\n",
            "weighted avg       0.96      0.94      0.95     21677\n",
            "\n"
          ]
        }
      ]
    },
    {
      "cell_type": "code",
      "source": [
        "print(test_data.head())\n",
        "print(test_data.tail())"
      ],
      "metadata": {
        "colab": {
          "base_uri": "https://localhost:8080/"
        },
        "id": "OEOAD2InbFu9",
        "outputId": "9c75a1fc-f483-4b8e-99d0-d25d7c73a43c"
      },
      "execution_count": 64,
      "outputs": [
        {
          "output_type": "stream",
          "name": "stdout",
          "text": [
            "   marital_divorced  marital_married  marital_single  education_primary  \\\n",
            "0               0.0              1.0             0.0                0.0   \n",
            "1               0.0              0.0             1.0                0.0   \n",
            "2               0.0              1.0             0.0                0.0   \n",
            "3               0.0              1.0             0.0                0.0   \n",
            "4               0.0              0.0             1.0                0.0   \n",
            "\n",
            "   education_secondary  education_tertiary  default_no  default_yes  loan_no  \\\n",
            "0                  0.0                 1.0         1.0          0.0      1.0   \n",
            "1                  1.0                 0.0         1.0          0.0      1.0   \n",
            "2                  1.0                 0.0         1.0          0.0      0.0   \n",
            "3                  0.0                 1.0         1.0          0.0      1.0   \n",
            "4                  0.0                 1.0         1.0          0.0      0.0   \n",
            "\n",
            "   loan_yes  age  duration  \n",
            "0       0.0   58       261  \n",
            "1       0.0   44       151  \n",
            "2       1.0   33        76  \n",
            "3       0.0   35       139  \n",
            "4       1.0   28       217  \n",
            "       marital_divorced  marital_married  marital_single  education_primary  \\\n",
            "21672               0.0              1.0             0.0                1.0   \n",
            "21673               1.0              0.0             0.0                0.0   \n",
            "21674               0.0              1.0             0.0                0.0   \n",
            "21675               0.0              1.0             0.0                0.0   \n",
            "21676               0.0              0.0             1.0                0.0   \n",
            "\n",
            "       education_secondary  education_tertiary  default_no  default_yes  \\\n",
            "21672                  0.0                 0.0         1.0          0.0   \n",
            "21673                  1.0                 0.0         1.0          0.0   \n",
            "21674                  0.0                 1.0         1.0          0.0   \n",
            "21675                  0.0                 1.0         1.0          0.0   \n",
            "21676                  0.0                 1.0         1.0          0.0   \n",
            "\n",
            "       loan_no  loan_yes  age  duration  \n",
            "21672      1.0       0.0   50       103  \n",
            "21673      1.0       0.0   39       116  \n",
            "21674      1.0       0.0   50       162  \n",
            "21675      1.0       0.0   36       109  \n",
            "21676      1.0       0.0   36        48  \n"
          ]
        }
      ]
    },
    {
      "cell_type": "markdown",
      "source": [
        "**Matriz de confusion a mano**\n"
      ],
      "metadata": {
        "id": "tarxTMbeQdQj"
      }
    },
    {
      "cell_type": "code",
      "source": [
        "TP = 0\n",
        "FP = 0\n",
        "FN = 0\n",
        "TN = 0\n",
        "\n",
        "for i in range(len(predictions)):\n",
        "    if predictions[i] == 1 and test_labels_target[i] == 1:\n",
        "      TP += 1\n",
        "    elif predictions[i] == 1 and test_labels_target[i] == 0:\n",
        "      FP += 1\n",
        "    elif predictions[i] == 0 and test_labels_target[i] == 1:\n",
        "      FN += 1\n",
        "    else:\n",
        "      TN += 1\n",
        "\n",
        "confusion_matrix = np.array([[TP, FP], [FN, TN]])\n",
        "print(confusion_matrix)\n",
        "\n",
        "plt.imshow(confusion_matrix, cmap='Blues')\n",
        "plt.colorbar()\n",
        "plt.show()"
      ],
      "metadata": {
        "colab": {
          "base_uri": "https://localhost:8080/",
          "height": 470
        },
        "id": "0g4g7fQ8QdAF",
        "outputId": "1ca76420-fea4-4670-ea44-55e3fb5bedbb"
      },
      "execution_count": 65,
      "outputs": [
        {
          "output_type": "stream",
          "name": "stdout",
          "text": [
            "[[  715   907]\n",
            " [  338 19717]]\n"
          ]
        },
        {
          "output_type": "display_data",
          "data": {
            "text/plain": [
              "<Figure size 640x480 with 2 Axes>"
            ],
            "image/png": "[encoded data removed]"
          },
          "metadata": {}
        }
      ]
    },
    {
      "cell_type": "markdown",
      "source": [
        "**GUARDAR MODELO**"
      ],
      "metadata": {
        "id": "uhbb-kj5EZn_"
      }
    },
    {
      "cell_type": "code",
      "source": [
        "model_nn.save(\"banksell.keras\")"
      ],
      "metadata": {
        "id": "I5RIeRVfEcyP"
      },
      "execution_count": 66,
      "outputs": []
    }
  ]
}